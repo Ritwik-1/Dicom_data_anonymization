{
 "cells": [
  {
   "cell_type": "code",
   "execution_count": null,
   "id": "2f8ea5f3",
   "metadata": {},
   "outputs": [],
   "source": [
    "# dependencies needed \n",
    "\n",
    "import os\n",
    "import pydicom \n",
    "import numpy as np\n",
    "import pandas as pad\n",
    "import csv\n",
    "import matplotlib.pyplot as plt\n",
    "from PIL import Image"
   ]
  },
  {
   "cell_type": "code",
   "execution_count": null,
   "id": "ec66b518",
   "metadata": {},
   "outputs": [],
   "source": [
    "data_folder = input(\"Enter data folder path : \")\n",
    "\n",
    "# C:\\Users\\RITWIK KASHYAP\\Desktop\\aiims\\SAM\\05June2023\\Datasets\\manifest-1669817128730"
   ]
  }
 ],
 "metadata": {
  "kernelspec": {
   "display_name": "Python 3 (ipykernel)",
   "language": "python",
   "name": "python3"
  },
  "language_info": {
   "codemirror_mode": {
    "name": "ipython",
    "version": 3
   },
   "file_extension": ".py",
   "mimetype": "text/x-python",
   "name": "python",
   "nbconvert_exporter": "python",
   "pygments_lexer": "ipython3",
   "version": "3.10.9"
  }
 },
 "nbformat": 4,
 "nbformat_minor": 5
}
